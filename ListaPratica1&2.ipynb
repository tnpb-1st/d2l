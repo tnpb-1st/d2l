{
  "cells": [
    {
      "cell_type": "markdown",
      "metadata": {
        "id": "SzcNr5C8FVQx"
      },
      "source": [
        "**LISTA PRÁTICA DAS UNIDADES 1 E 2**\n",
        "\n",
        "Pode ser feita com o grupo do projeto. Recomendo pair/group programming para que todos vejam um pouco de todas as partes.\n"
      ]
    },
    {
      "cell_type": "markdown",
      "metadata": {
        "id": "hvhmts4k90-a"
      },
      "source": [
        "Treine e avalie 4 modelos de classificação para a base de dados do FashionMNIST (https://www.kaggle.com/datasets/zalando-research/fashionmnist,\n",
        "https://pytorch.org/vision/stable/generated/torchvision.datasets.FashionMNIST.html).\n",
        "\n",
        "\n",
        "\n",
        "1.   Um modelo base que não seja uma rede neural, como _decision tree, xgboost, random forest_, etc. Recomendação: use o sklearn (https://scikit-learn.org/).\n",
        "\n",
        "2.   Uma MLP\n",
        "\n",
        "3. Uma rede convolucional criada por ti. Recomendação: https://pytorch.org/\n",
        "\n",
        "4. Use um modelo pré treinado já consolidado na literatura para fazer _transfer learning_. Recomendações: https://pytorch.org/hub/pytorch_vision_vgg/\n",
        "\n",
        "\n",
        "Compare os resultados dos modelos:\n",
        "* plote gráficos que mostrem as acurácias de cada modelo\n",
        "* Indique qual foi a classe na qual o modelo teve pior performance (indique qual métrica usou para concluir isso e faça para cada modelo)\n",
        "* argumente qual o melhor modelo levando em consideração o tempo de execução e acurácia.\n",
        "\n",
        "Recomendação use:\n",
        "https://pytorch.org/vision/main/generated/torchvision.datasets.MNIST.html .\n",
        "\n"
      ]
    },
    {
      "cell_type": "markdown",
      "metadata": {
        "id": "4QgLyoV5BK9q"
      },
      "source": [
        "Recomendação:\n",
        "\n",
        "Faça um template de treino, validação e teste que funcione para uma API de modelo.\n",
        "\n",
        "Crie a API para cada modelo que será usado e use o template"
      ]
    },
    {
      "cell_type": "markdown",
      "metadata": {
        "id": "oK0gUqL9EuJD"
      },
      "source": [
        "# Imports e Downloads"
      ]
    },
    {
      "cell_type": "code",
      "execution_count": null,
      "metadata": {
        "colab": {
          "base_uri": "https://localhost:8080/"
        },
        "id": "6-gCejRGc1aw",
        "outputId": "fe06af7c-f4e4-4c09-ce1c-5488a685a6bf"
      },
      "outputs": [
        {
          "output_type": "stream",
          "name": "stdout",
          "text": [
            "Requirement already satisfied: scikit-optimize in /usr/local/lib/python3.10/dist-packages (0.9.0)\n",
            "Requirement already satisfied: numpy in /usr/local/lib/python3.10/dist-packages (1.23.5)\n",
            "Requirement already satisfied: pandas in /usr/local/lib/python3.10/dist-packages (1.5.3)\n",
            "Requirement already satisfied: scikit-learn in /usr/local/lib/python3.10/dist-packages (1.2.2)\n",
            "Requirement already satisfied: joblib>=0.11 in /usr/local/lib/python3.10/dist-packages (from scikit-optimize) (1.3.2)\n",
            "Requirement already satisfied: pyaml>=16.9 in /usr/local/lib/python3.10/dist-packages (from scikit-optimize) (23.12.0)\n",
            "Requirement already satisfied: scipy>=0.19.1 in /usr/local/lib/python3.10/dist-packages (from scikit-optimize) (1.11.4)\n",
            "Requirement already satisfied: python-dateutil>=2.8.1 in /usr/local/lib/python3.10/dist-packages (from pandas) (2.8.2)\n",
            "Requirement already satisfied: pytz>=2020.1 in /usr/local/lib/python3.10/dist-packages (from pandas) (2023.3.post1)\n",
            "Requirement already satisfied: threadpoolctl>=2.0.0 in /usr/local/lib/python3.10/dist-packages (from scikit-learn) (3.2.0)\n",
            "Requirement already satisfied: PyYAML in /usr/local/lib/python3.10/dist-packages (from pyaml>=16.9->scikit-optimize) (6.0.1)\n",
            "Requirement already satisfied: six>=1.5 in /usr/local/lib/python3.10/dist-packages (from python-dateutil>=2.8.1->pandas) (1.16.0)\n"
          ]
        }
      ],
      "source": [
        "%pip install scikit-optimize numpy pandas scikit-learn"
      ]
    },
    {
      "cell_type": "code",
      "execution_count": null,
      "metadata": {
        "colab": {
          "base_uri": "https://localhost:8080/"
        },
        "id": "Khme1VNFcP38",
        "outputId": "79e4e2ae-0b75-4d5c-e2a4-09b76a3e2b4d"
      },
      "outputs": [
        {
          "output_type": "stream",
          "name": "stdout",
          "text": [
            "Mounted at /content/drive\n"
          ]
        }
      ],
      "source": [
        "from google.colab import drive\n",
        "drive.mount('/content/drive')"
      ]
    },
    {
      "cell_type": "code",
      "execution_count": null,
      "metadata": {
        "id": "sgzcKvcQEw40"
      },
      "outputs": [],
      "source": [
        "import numpy as np\n",
        "import pandas as pd\n",
        "from sklearn.tree import DecisionTreeClassifier\n",
        "from sklearn.model_selection import train_test_split\n",
        "from skopt import BayesSearchCV"
      ]
    },
    {
      "cell_type": "markdown",
      "metadata": {
        "id": "rz4Rv_MaCnvO"
      },
      "source": [
        "# Modelo base"
      ]
    },
    {
      "cell_type": "markdown",
      "metadata": {
        "id": "j_ChU169eVUK"
      },
      "source": [
        "### Dataset\n",
        "Explorando o dataset, vemos que os dados já foram transformados de modo que cada pixel virou vetor unidimensional e que cada as categorias de objetos estão balanceadas"
      ]
    },
    {
      "cell_type": "code",
      "execution_count": null,
      "metadata": {
        "id": "anIaY4TB9mQG"
      },
      "outputs": [],
      "source": [
        "fminist_root_dir = '/content/drive/MyDrive/Colab Notebooks/Data/fashion-mnist'\n",
        "train_csv_path = '/content/drive/MyDrive/Colab Notebooks/Data/fashion-mnist/fashion-mnist_train.csv'\n",
        "test_csv_path = '/content/drive/MyDrive/Colab Notebooks/Data/fashion-mnist/fashion-mnist_train.csv'"
      ]
    },
    {
      "cell_type": "code",
      "execution_count": null,
      "metadata": {
        "id": "fK0NdmgKfAhM"
      },
      "outputs": [],
      "source": [
        "df_train = pd.read_csv(train_csv_path)\n",
        "df_test = pd.read_csv(test_csv_path)"
      ]
    },
    {
      "cell_type": "code",
      "execution_count": null,
      "metadata": {
        "colab": {
          "base_uri": "https://localhost:8080/"
        },
        "id": "R_ZszOh2fm47",
        "outputId": "fd848f90-02ec-4692-f7f3-9af4a6704e31"
      },
      "outputs": [
        {
          "output_type": "stream",
          "name": "stdout",
          "text": [
            "<class 'pandas.core.frame.DataFrame'>\n",
            "RangeIndex: 60000 entries, 0 to 59999\n",
            "Columns: 785 entries, label to pixel784\n",
            "dtypes: int64(785)\n",
            "memory usage: 359.3 MB\n"
          ]
        }
      ],
      "source": [
        "df_train.info()"
      ]
    },
    {
      "cell_type": "code",
      "execution_count": null,
      "metadata": {
        "colab": {
          "base_uri": "https://localhost:8080/"
        },
        "id": "mKS6kgkQgmwq",
        "outputId": "ff7bcfcf-e0dd-49a3-c6aa-94ce0f217b51"
      },
      "outputs": [
        {
          "output_type": "execute_result",
          "data": {
            "text/plain": [
              "2    6000\n",
              "9    6000\n",
              "6    6000\n",
              "0    6000\n",
              "3    6000\n",
              "4    6000\n",
              "5    6000\n",
              "8    6000\n",
              "7    6000\n",
              "1    6000\n",
              "Name: label, dtype: int64"
            ]
          },
          "metadata": {},
          "execution_count": 7
        }
      ],
      "source": [
        "df_train['label'].value_counts()"
      ]
    },
    {
      "cell_type": "code",
      "execution_count": null,
      "metadata": {
        "id": "7WQQ6BLwcX3_"
      },
      "outputs": [],
      "source": [
        "X = df_train.drop('label', axis=1).to_numpy(int)\n",
        "y = df_train['label'].to_numpy(int)\n",
        "X_train, X_test, y_train, y_test = train_test_split(X, y, test_size=0.20, random_state=13)"
      ]
    },
    {
      "cell_type": "markdown",
      "metadata": {
        "id": "kwwOkikBf37Q"
      },
      "source": [
        "### Modelos\n",
        "\n",
        "\n",
        "* Decision Tree\n",
        "* Random Forest\n",
        "\n"
      ]
    },
    {
      "cell_type": "markdown",
      "metadata": {
        "id": "7Q89G-wVgcQa"
      },
      "source": [
        "#### Decision Tree"
      ]
    },
    {
      "cell_type": "markdown",
      "metadata": {
        "id": "uQ1N_VplcbI0"
      },
      "source": [
        "##### Hyperparameter Tunning\n",
        "min_samples_split: [1, 40]\n",
        "\n",
        "min_samples_leaf: [1, 20]"
      ]
    },
    {
      "cell_type": "code",
      "execution_count": null,
      "metadata": {
        "id": "YjeTTX1AgbwU",
        "colab": {
          "base_uri": "https://localhost:8080/",
          "height": 118
        },
        "outputId": "72e1d2f7-94f6-4a1d-aec6-765cdc6a221b"
      },
      "outputs": [
        {
          "output_type": "execute_result",
          "data": {
            "text/plain": [
              "BayesSearchCV(cv=5, estimator=DecisionTreeClassifier(), n_iter=5, n_jobs=-1,\n",
              "              random_state=42,\n",
              "              search_spaces={'min_samples_leaf': [1, 3, 5, 7, 9, 11, 13, 15, 17,\n",
              "                                                  19],\n",
              "                             'min_samples_split': [1, 3, 5, 7, 9, 11, 13, 15,\n",
              "                                                   17, 19, 21, 23, 25, 27, 29,\n",
              "                                                   31, 33, 35, 37, 39]})"
            ],
            "text/html": [
              "<style>#sk-container-id-1 {color: black;background-color: white;}#sk-container-id-1 pre{padding: 0;}#sk-container-id-1 div.sk-toggleable {background-color: white;}#sk-container-id-1 label.sk-toggleable__label {cursor: pointer;display: block;width: 100%;margin-bottom: 0;padding: 0.3em;box-sizing: border-box;text-align: center;}#sk-container-id-1 label.sk-toggleable__label-arrow:before {content: \"▸\";float: left;margin-right: 0.25em;color: #696969;}#sk-container-id-1 label.sk-toggleable__label-arrow:hover:before {color: black;}#sk-container-id-1 div.sk-estimator:hover label.sk-toggleable__label-arrow:before {color: black;}#sk-container-id-1 div.sk-toggleable__content {max-height: 0;max-width: 0;overflow: hidden;text-align: left;background-color: #f0f8ff;}#sk-container-id-1 div.sk-toggleable__content pre {margin: 0.2em;color: black;border-radius: 0.25em;background-color: #f0f8ff;}#sk-container-id-1 input.sk-toggleable__control:checked~div.sk-toggleable__content {max-height: 200px;max-width: 100%;overflow: auto;}#sk-container-id-1 input.sk-toggleable__control:checked~label.sk-toggleable__label-arrow:before {content: \"▾\";}#sk-container-id-1 div.sk-estimator input.sk-toggleable__control:checked~label.sk-toggleable__label {background-color: #d4ebff;}#sk-container-id-1 div.sk-label input.sk-toggleable__control:checked~label.sk-toggleable__label {background-color: #d4ebff;}#sk-container-id-1 input.sk-hidden--visually {border: 0;clip: rect(1px 1px 1px 1px);clip: rect(1px, 1px, 1px, 1px);height: 1px;margin: -1px;overflow: hidden;padding: 0;position: absolute;width: 1px;}#sk-container-id-1 div.sk-estimator {font-family: monospace;background-color: #f0f8ff;border: 1px dotted black;border-radius: 0.25em;box-sizing: border-box;margin-bottom: 0.5em;}#sk-container-id-1 div.sk-estimator:hover {background-color: #d4ebff;}#sk-container-id-1 div.sk-parallel-item::after {content: \"\";width: 100%;border-bottom: 1px solid gray;flex-grow: 1;}#sk-container-id-1 div.sk-label:hover label.sk-toggleable__label {background-color: #d4ebff;}#sk-container-id-1 div.sk-serial::before {content: \"\";position: absolute;border-left: 1px solid gray;box-sizing: border-box;top: 0;bottom: 0;left: 50%;z-index: 0;}#sk-container-id-1 div.sk-serial {display: flex;flex-direction: column;align-items: center;background-color: white;padding-right: 0.2em;padding-left: 0.2em;position: relative;}#sk-container-id-1 div.sk-item {position: relative;z-index: 1;}#sk-container-id-1 div.sk-parallel {display: flex;align-items: stretch;justify-content: center;background-color: white;position: relative;}#sk-container-id-1 div.sk-item::before, #sk-container-id-1 div.sk-parallel-item::before {content: \"\";position: absolute;border-left: 1px solid gray;box-sizing: border-box;top: 0;bottom: 0;left: 50%;z-index: -1;}#sk-container-id-1 div.sk-parallel-item {display: flex;flex-direction: column;z-index: 1;position: relative;background-color: white;}#sk-container-id-1 div.sk-parallel-item:first-child::after {align-self: flex-end;width: 50%;}#sk-container-id-1 div.sk-parallel-item:last-child::after {align-self: flex-start;width: 50%;}#sk-container-id-1 div.sk-parallel-item:only-child::after {width: 0;}#sk-container-id-1 div.sk-dashed-wrapped {border: 1px dashed gray;margin: 0 0.4em 0.5em 0.4em;box-sizing: border-box;padding-bottom: 0.4em;background-color: white;}#sk-container-id-1 div.sk-label label {font-family: monospace;font-weight: bold;display: inline-block;line-height: 1.2em;}#sk-container-id-1 div.sk-label-container {text-align: center;}#sk-container-id-1 div.sk-container {/* jupyter's `normalize.less` sets `[hidden] { display: none; }` but bootstrap.min.css set `[hidden] { display: none !important; }` so we also need the `!important` here to be able to override the default hidden behavior on the sphinx rendered scikit-learn.org. See: https://github.com/scikit-learn/scikit-learn/issues/21755 */display: inline-block !important;position: relative;}#sk-container-id-1 div.sk-text-repr-fallback {display: none;}</style><div id=\"sk-container-id-1\" class=\"sk-top-container\"><div class=\"sk-text-repr-fallback\"><pre>BayesSearchCV(cv=5, estimator=DecisionTreeClassifier(), n_iter=5, n_jobs=-1,\n",
              "              random_state=42,\n",
              "              search_spaces={&#x27;min_samples_leaf&#x27;: [1, 3, 5, 7, 9, 11, 13, 15, 17,\n",
              "                                                  19],\n",
              "                             &#x27;min_samples_split&#x27;: [1, 3, 5, 7, 9, 11, 13, 15,\n",
              "                                                   17, 19, 21, 23, 25, 27, 29,\n",
              "                                                   31, 33, 35, 37, 39]})</pre><b>In a Jupyter environment, please rerun this cell to show the HTML representation or trust the notebook. <br />On GitHub, the HTML representation is unable to render, please try loading this page with nbviewer.org.</b></div><div class=\"sk-container\" hidden><div class=\"sk-item sk-dashed-wrapped\"><div class=\"sk-label-container\"><div class=\"sk-label sk-toggleable\"><input class=\"sk-toggleable__control sk-hidden--visually\" id=\"sk-estimator-id-1\" type=\"checkbox\" ><label for=\"sk-estimator-id-1\" class=\"sk-toggleable__label sk-toggleable__label-arrow\">BayesSearchCV</label><div class=\"sk-toggleable__content\"><pre>BayesSearchCV(cv=5, estimator=DecisionTreeClassifier(), n_iter=5, n_jobs=-1,\n",
              "              random_state=42,\n",
              "              search_spaces={&#x27;min_samples_leaf&#x27;: [1, 3, 5, 7, 9, 11, 13, 15, 17,\n",
              "                                                  19],\n",
              "                             &#x27;min_samples_split&#x27;: [1, 3, 5, 7, 9, 11, 13, 15,\n",
              "                                                   17, 19, 21, 23, 25, 27, 29,\n",
              "                                                   31, 33, 35, 37, 39]})</pre></div></div></div><div class=\"sk-parallel\"><div class=\"sk-parallel-item\"><div class=\"sk-item\"><div class=\"sk-label-container\"><div class=\"sk-label sk-toggleable\"><input class=\"sk-toggleable__control sk-hidden--visually\" id=\"sk-estimator-id-2\" type=\"checkbox\" ><label for=\"sk-estimator-id-2\" class=\"sk-toggleable__label sk-toggleable__label-arrow\">estimator: DecisionTreeClassifier</label><div class=\"sk-toggleable__content\"><pre>DecisionTreeClassifier()</pre></div></div></div><div class=\"sk-serial\"><div class=\"sk-item\"><div class=\"sk-estimator sk-toggleable\"><input class=\"sk-toggleable__control sk-hidden--visually\" id=\"sk-estimator-id-3\" type=\"checkbox\" ><label for=\"sk-estimator-id-3\" class=\"sk-toggleable__label sk-toggleable__label-arrow\">DecisionTreeClassifier</label><div class=\"sk-toggleable__content\"><pre>DecisionTreeClassifier()</pre></div></div></div></div></div></div></div></div></div></div>"
            ]
          },
          "metadata": {},
          "execution_count": 9
        }
      ],
      "source": [
        "parameters = {\n",
        "    'min_samples_split' : np.arange(1, 41).tolist()[::2],\n",
        "    'min_samples_leaf' : np.arange(1, 21).tolist()[::2],\n",
        "}\n",
        "g1 = BayesSearchCV(DecisionTreeClassifier(), parameters, cv=5, n_jobs=-1, n_iter=5, random_state=42)\n",
        "g1.fit(X_train, y_train)"
      ]
    },
    {
      "cell_type": "code",
      "execution_count": null,
      "metadata": {
        "colab": {
          "base_uri": "https://localhost:8080/"
        },
        "id": "30hnmBpGfByb",
        "outputId": "fcf3324e-955b-4680-97da-c17b23fef005"
      },
      "outputs": [
        {
          "output_type": "execute_result",
          "data": {
            "text/plain": [
              "OrderedDict([('min_samples_leaf', 15), ('min_samples_split', 17)])"
            ]
          },
          "metadata": {},
          "execution_count": 10
        }
      ],
      "source": [
        "g1.best_params_"
      ]
    },
    {
      "cell_type": "code",
      "execution_count": null,
      "metadata": {
        "id": "j7U5NDohkRk5"
      },
      "outputs": [],
      "source": [
        "clf = DecisionTreeClassifier(min_samples_leaf=15, min_samples_split=17, random_state=13)\n",
        "clf.fit(X_train, y_train)\n",
        "y_pred = clf.predict(X_test)"
      ]
    },
    {
      "cell_type": "code",
      "execution_count": null,
      "metadata": {
        "id": "3orlHplmlT5X"
      },
      "outputs": [],
      "source": []
    },
    {
      "cell_type": "markdown",
      "metadata": {
        "id": "1Uf4lwhPgfvd"
      },
      "source": [
        "#### Random Forest"
      ]
    },
    {
      "cell_type": "markdown",
      "metadata": {
        "id": "2jx1ioMnCqC3"
      },
      "source": [
        "# MLP"
      ]
    },
    {
      "cell_type": "code",
      "execution_count": null,
      "metadata": {
        "id": "dh_cQPsCCu7Y"
      },
      "outputs": [],
      "source": []
    },
    {
      "cell_type": "markdown",
      "metadata": {
        "id": "3zV0XIuwCvbL"
      },
      "source": [
        "# Rede Convolucional"
      ]
    },
    {
      "cell_type": "code",
      "execution_count": null,
      "metadata": {
        "id": "2WCbrZzJC1oz"
      },
      "outputs": [],
      "source": []
    },
    {
      "cell_type": "markdown",
      "metadata": {
        "id": "sUxkMdIuC1-8"
      },
      "source": [
        "# Rede Convolucional consolidada"
      ]
    },
    {
      "cell_type": "code",
      "execution_count": null,
      "metadata": {
        "id": "LXoNevx3C5D9"
      },
      "outputs": [],
      "source": []
    },
    {
      "cell_type": "markdown",
      "metadata": {
        "id": "NpiZ9wBtC9OS"
      },
      "source": [
        "# Comparação"
      ]
    },
    {
      "cell_type": "code",
      "execution_count": null,
      "metadata": {
        "id": "K0dPyNTdC-gN"
      },
      "outputs": [],
      "source": []
    }
  ],
  "metadata": {
    "colab": {
      "provenance": [],
      "gpuType": "T4"
    },
    "kernelspec": {
      "display_name": "Python 3",
      "name": "python3"
    },
    "language_info": {
      "name": "python"
    },
    "accelerator": "GPU"
  },
  "nbformat": 4,
  "nbformat_minor": 0
}